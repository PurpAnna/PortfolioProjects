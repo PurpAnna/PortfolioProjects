{
 "cells": [
  {
   "cell_type": "code",
   "execution_count": 1,
   "id": "53c57d1d",
   "metadata": {},
   "outputs": [
    {
     "name": "stdout",
     "output_type": "stream",
     "text": [
      "Requirement already satisfied: requests in ./anaconda3/envs/proje/lib/python3.11/site-packages (2.32.3)\n",
      "Requirement already satisfied: pandas in ./anaconda3/envs/proje/lib/python3.11/site-packages (1.5.3)\n",
      "Requirement already satisfied: charset-normalizer<4,>=2 in ./anaconda3/envs/proje/lib/python3.11/site-packages (from requests) (2.0.4)\n",
      "Requirement already satisfied: idna<4,>=2.5 in ./anaconda3/envs/proje/lib/python3.11/site-packages (from requests) (3.4)\n",
      "Requirement already satisfied: urllib3<3,>=1.21.1 in ./anaconda3/envs/proje/lib/python3.11/site-packages (from requests) (1.26.15)\n",
      "Requirement already satisfied: certifi>=2017.4.17 in ./anaconda3/envs/proje/lib/python3.11/site-packages (from requests) (2023.5.7)\n",
      "Requirement already satisfied: python-dateutil>=2.8.1 in ./anaconda3/envs/proje/lib/python3.11/site-packages (from pandas) (2.8.2)\n",
      "Requirement already satisfied: pytz>=2020.1 in ./anaconda3/envs/proje/lib/python3.11/site-packages (from pandas) (2022.7)\n",
      "Requirement already satisfied: numpy>=1.21.0 in ./anaconda3/envs/proje/lib/python3.11/site-packages (from pandas) (1.24.3)\n",
      "Requirement already satisfied: six>=1.5 in ./anaconda3/envs/proje/lib/python3.11/site-packages (from python-dateutil>=2.8.1->pandas) (1.16.0)\n"
     ]
    }
   ],
   "source": [
    "!pip install requests pandas\n"
   ]
  },
  {
   "cell_type": "code",
   "execution_count": 2,
   "id": "b6fbf52b",
   "metadata": {},
   "outputs": [
    {
     "name": "stdout",
     "output_type": "stream",
     "text": [
      "Error fetching data for ripple: {'status': {'error_code': 429, 'error_message': \"You've exceeded the Rate Limit. Please visit https://www.coingecko.com/en/api/pricing to subscribe to our API plans for higher rate limits.\"}}\n",
      "Error fetching data for dogecoin: {'status': {'error_code': 429, 'error_message': \"You've exceeded the Rate Limit. Please visit https://www.coingecko.com/en/api/pricing to subscribe to our API plans for higher rate limits.\"}}\n",
      "Error fetching data for usd-coin: {'status': {'error_code': 429, 'error_message': \"You've exceeded the Rate Limit. Please visit https://www.coingecko.com/en/api/pricing to subscribe to our API plans for higher rate limits.\"}}\n",
      "Error fetching data for polkadot: {'status': {'error_code': 429, 'error_message': \"You've exceeded the Rate Limit. Please visit https://www.coingecko.com/en/api/pricing to subscribe to our API plans for higher rate limits.\"}}\n",
      "Error fetching data for uniswap: {'status': {'error_code': 429, 'error_message': \"You've exceeded the Rate Limit. Please visit https://www.coingecko.com/en/api/pricing to subscribe to our API plans for higher rate limits.\"}}\n",
      "Data has been saved to crypto_data_extended.csv\n"
     ]
    }
   ],
   "source": [
    "import requests\n",
    "import pandas as pd\n",
    "from datetime import datetime, timedelta\n",
    "\n",
    "# Define the base URL and parameters\n",
    "base_url = 'https://api.coingecko.com/api/v3/coins/{id}/market_chart'\n",
    "params = {\n",
    "    'vs_currency': 'usd',\n",
    "    'days': 7  # last 7 days\n",
    "}\n",
    "\n",
    "# List of cryptocurrency IDs to fetch data for (top 10 by market cap)\n",
    "crypto_ids = ['bitcoin', 'ethereum', 'tether', 'binancecoin', 'cardano', \n",
    "              'ripple', 'dogecoin', 'usd-coin', 'polkadot', 'uniswap']\n",
    "\n",
    "# Function to fetch and process data for each cryptocurrency\n",
    "def fetch_data(crypto_id):\n",
    "    url = base_url.format(id=crypto_id)\n",
    "    response = requests.get(url, params=params)\n",
    "    data = response.json()\n",
    "    \n",
    "    # Check if 'prices', 'market_caps', and 'total_volumes' exist\n",
    "    if 'prices' in data and 'market_caps' in data and 'total_volumes' in data:\n",
    "        prices = data['prices']\n",
    "        market_caps = data['market_caps']\n",
    "        total_volumes = data['total_volumes']\n",
    "    \n",
    "        # Convert to DataFrame\n",
    "        df_prices = pd.DataFrame(prices, columns=['timestamp', 'price'])\n",
    "        df_market_caps = pd.DataFrame(market_caps, columns=['timestamp', 'market_cap'])\n",
    "        df_volumes = pd.DataFrame(total_volumes, columns=['timestamp', 'volume'])\n",
    "    \n",
    "        # Merge DataFrames on timestamp\n",
    "        df = df_prices.merge(df_market_caps, on='timestamp').merge(df_volumes, on='timestamp')\n",
    "        df['timestamp'] = pd.to_datetime(df['timestamp'], unit='ms')\n",
    "        df['crypto'] = crypto_id\n",
    "        return df\n",
    "    else:\n",
    "        print(f\"Error fetching data for {crypto_id}: {data}\")\n",
    "        return pd.DataFrame()\n",
    "\n",
    "# Fetch data for all cryptocurrencies and combine into a single DataFrame\n",
    "all_data = pd.concat([fetch_data(crypto_id) for crypto_id in crypto_ids])\n",
    "\n",
    "# Save to CSV\n",
    "all_data.to_csv('crypto_data_extended.csv', index=False)\n",
    "\n",
    "print(\"Data has been saved to crypto_data_extended.csv\")\n"
   ]
  },
  {
   "cell_type": "code",
   "execution_count": null,
   "id": "8b2cdd29",
   "metadata": {},
   "outputs": [],
   "source": []
  }
 ],
 "metadata": {
  "kernelspec": {
   "display_name": "Python 3 (ipykernel)",
   "language": "python",
   "name": "python3"
  },
  "language_info": {
   "codemirror_mode": {
    "name": "ipython",
    "version": 3
   },
   "file_extension": ".py",
   "mimetype": "text/x-python",
   "name": "python",
   "nbconvert_exporter": "python",
   "pygments_lexer": "ipython3",
   "version": "3.11.3"
  }
 },
 "nbformat": 4,
 "nbformat_minor": 5
}
